{
 "cells": [
  {
   "cell_type": "code",
   "execution_count": 1,
   "metadata": {},
   "outputs": [],
   "source": [
    "import numpy as np\n",
    "import matplotlib.pyplot as plt\n",
    "\n",
    "import tensorflow as tf\n",
    "import keras\n",
    "from keras.preprocessing.image import ImageDataGenerator\n",
    "\n",
    "from locnet import LocNet"
   ]
  },
  {
   "cell_type": "code",
   "execution_count": 2,
   "metadata": {},
   "outputs": [],
   "source": [
    "train, test = keras.datasets.mnist.load_data()\n",
    "x_train, y_train = train\n",
    "x_val, y_val = test\n",
    "\n",
    "x_train = x_train.reshape(-1, 28, 28, 1)\n",
    "x_val = x_val.reshape(-1, 28, 28, 1)\n",
    "\n",
    "y_train = keras.utils.to_categorical(y_train, 10)\n",
    "y_val = keras.utils.to_categorical(y_val, 10)"
   ]
  },
  {
   "cell_type": "code",
   "execution_count": 3,
   "metadata": {},
   "outputs": [
    {
     "data": {
      "image/png": "[encoded data removed]",
      "text/plain": [
       "<Figure size 400x400 with 9 Axes>"
      ]
     },
     "metadata": {},
     "output_type": "display_data"
    }
   ],
   "source": [
    "random_indices = np.random.choice(len(x_train), size=9, replace=False)\n",
    "\n",
    "fig, axes = plt.subplots(3, 3, figsize=(4, 4))\n",
    "for i, ax in enumerate(axes.flatten()):\n",
    "  ax.imshow(x_train[random_indices[i]])\n",
    "  ax.axis('off')\n",
    "\n",
    "plt.tight_layout()\n",
    "plt.show()"
   ]
  },
  {
   "cell_type": "code",
   "execution_count": 4,
   "metadata": {},
   "outputs": [],
   "source": [
    "train_datagen = ImageDataGenerator(\n",
    "  rescale=1./255,  \n",
    "  rotation_range=20, \n",
    "  width_shift_range=0.2,  \n",
    "  height_shift_range=0.2,\n",
    "  zoom_range=0.2,  \n",
    "  shear_range=0.2, \n",
    "  fill_mode='nearest',\n",
    ")\n",
    "\n",
    "val_datagen = ImageDataGenerator(\n",
    "  rescale=1./255,\n",
    ")\n",
    "\n",
    "train_set = train_datagen.flow(x_train, y_train, batch_size=32)\n",
    "val_set = val_datagen.flow(x_val, y_val, batch_size=32)"
   ]
  },
  {
   "cell_type": "code",
   "execution_count": 5,
   "metadata": {},
   "outputs": [
    {
     "data": {
      "image/png": "[encoded data removed]",
      "text/plain": [
       "<Figure size 500x500 with 9 Axes>"
      ]
     },
     "metadata": {},
     "output_type": "display_data"
    }
   ],
   "source": [
    "import matplotlib.pyplot as plt\n",
    "\n",
    "batch_images, batch_labels = next(train_set)\n",
    "\n",
    "fig, axes = plt.subplots(3, 3, figsize=(5, 5))\n",
    "axes = axes.flatten()\n",
    "for i in range(9):\n",
    "  image = batch_images[i]\n",
    "  label = tf.argmax(batch_labels[i]).numpy()\n",
    "  axes[i].imshow(image)\n",
    "  axes[i].set_title(f\"Label: {label}\")\n",
    "  axes[i].axis('off')\n",
    "\n",
    "plt.tight_layout()\n",
    "plt.show()"
   ]
  },
  {
   "cell_type": "code",
   "execution_count": 6,
   "metadata": {},
   "outputs": [],
   "source": [
    "import keras.losses\n",
    "import keras.optimizers\n",
    "\n",
    "\n",
    "def build_model(use_stn: bool = False):\n",
    "  layer_sequence = [\n",
    "    keras.layers.Input(shape=(28, 28, 1)),\n",
    "    keras.layers.Conv2D(32, (3, 3), activation='relu'),\n",
    "    keras.layers.MaxPooling2D((2, 2)),\n",
    "    keras.layers.Conv2D(64, (3, 3), activation='relu'),\n",
    "    keras.layers.MaxPooling2D((2, 2)),\n",
    "    keras.layers.Conv2D(64, (3, 3), activation='relu'),\n",
    "    keras.layers.Flatten(),\n",
    "    keras.layers.Dense(64, activation='relu'),\n",
    "    keras.layers.Dense(10, activation='softmax')\n",
    "  ]\n",
    "\n",
    "  if use_stn:\n",
    "    layer_sequence.insert(1, LocNet(image_width=28, image_height=28))\n",
    "  \n",
    "  model = keras.models.Sequential(layer_sequence)\n",
    "  model.compile(\n",
    "    optimizer=keras.optimizers.Adam(learning_rate=1e-3), \n",
    "    loss=keras.losses.CategoricalCrossentropy(), \n",
    "    metrics=[\n",
    "      keras.metrics.CategoricalAccuracy(),\n",
    "      keras.metrics.Precision(),\n",
    "      keras.metrics.Recall(),\n",
    "    ]\n",
    "  )\n",
    "\n",
    "  return model"
   ]
  },
  {
   "cell_type": "code",
   "execution_count": 7,
   "metadata": {},
   "outputs": [
    {
     "name": "stdout",
     "output_type": "stream",
     "text": [
      "Model: \"sequential\"\n",
      "_________________________________________________________________\n",
      " Layer (type)                Output Shape              Param #   \n",
      "=================================================================\n",
      " conv2d (Conv2D)             (None, 26, 26, 32)        320       \n",
      "                                                                 \n",
      " max_pooling2d (MaxPooling2D  (None, 13, 13, 32)       0         \n",
      " )                                                               \n",
      "                                                                 \n",
      " conv2d_1 (Conv2D)           (None, 11, 11, 64)        18496     \n",
      "                                                                 \n",
      " max_pooling2d_1 (MaxPooling  (None, 5, 5, 64)         0         \n",
      " 2D)                                                             \n",
      "                                                                 \n",
      " conv2d_2 (Conv2D)           (None, 3, 3, 64)          36928     \n",
      "                                                                 \n",
      " flatten (Flatten)           (None, 576)               0         \n",
      "                                                                 \n",
      " dense (Dense)               (None, 64)                36928     \n",
      "                                                                 \n",
      " dense_1 (Dense)             (None, 10)                650       \n",
      "                                                                 \n",
      "=================================================================\n",
      "Total params: 93,322\n",
      "Trainable params: 93,322\n",
      "Non-trainable params: 0\n",
      "_________________________________________________________________\n",
      "Epoch 1/10\n",
      "1875/1875 [==============================] - 14s 7ms/step - loss: 0.5503 - categorical_accuracy: 0.8217 - precision: 0.9074 - recall: 0.7640 - val_loss: 0.0848 - val_categorical_accuracy: 0.9738 - val_precision: 0.9780 - val_recall: 0.9706\n",
      "Epoch 2/10\n",
      "1875/1875 [==============================] - 13s 7ms/step - loss: 0.2056 - categorical_accuracy: 0.9373 - precision: 0.9509 - recall: 0.9258 - val_loss: 0.0527 - val_categorical_accuracy: 0.9833 - val_precision: 0.9860 - val_recall: 0.9814\n",
      "Epoch 3/10\n",
      "1875/1875 [==============================] - 13s 7ms/step - loss: 0.1460 - categorical_accuracy: 0.9546 - precision: 0.9631 - recall: 0.9478 - val_loss: 0.0680 - val_categorical_accuracy: 0.9780 - val_precision: 0.9808 - val_recall: 0.9765\n",
      "Epoch 4/10\n",
      "1875/1875 [==============================] - 13s 7ms/step - loss: 0.1291 - categorical_accuracy: 0.9601 - precision: 0.9672 - recall: 0.9546 - val_loss: 0.0452 - val_categorical_accuracy: 0.9840 - val_precision: 0.9865 - val_recall: 0.9825\n",
      "Epoch 5/10\n",
      "1875/1875 [==============================] - 13s 7ms/step - loss: 0.1120 - categorical_accuracy: 0.9648 - precision: 0.9706 - recall: 0.9601 - val_loss: 0.0383 - val_categorical_accuracy: 0.9874 - val_precision: 0.9890 - val_recall: 0.9863\n",
      "Epoch 6/10\n",
      "1875/1875 [==============================] - 13s 7ms/step - loss: 0.0988 - categorical_accuracy: 0.9697 - precision: 0.9745 - recall: 0.9658 - val_loss: 0.1190 - val_categorical_accuracy: 0.9595 - val_precision: 0.9615 - val_recall: 0.9588\n",
      "Epoch 7/10\n",
      "1875/1875 [==============================] - 13s 7ms/step - loss: 0.0910 - categorical_accuracy: 0.9718 - precision: 0.9762 - recall: 0.9686 - val_loss: 0.0610 - val_categorical_accuracy: 0.9815 - val_precision: 0.9830 - val_recall: 0.9807\n",
      "Epoch 8/10\n",
      "1875/1875 [==============================] - 13s 7ms/step - loss: 0.0863 - categorical_accuracy: 0.9732 - precision: 0.9774 - recall: 0.9702 - val_loss: 0.0325 - val_categorical_accuracy: 0.9897 - val_precision: 0.9905 - val_recall: 0.9888\n",
      "Epoch 9/10\n",
      "1875/1875 [==============================] - 13s 7ms/step - loss: 0.0795 - categorical_accuracy: 0.9755 - precision: 0.9788 - recall: 0.9726 - val_loss: 0.0420 - val_categorical_accuracy: 0.9875 - val_precision: 0.9883 - val_recall: 0.9870\n",
      "Epoch 10/10\n",
      "1875/1875 [==============================] - 13s 7ms/step - loss: 0.0753 - categorical_accuracy: 0.9763 - precision: 0.9795 - recall: 0.9737 - val_loss: 0.0303 - val_categorical_accuracy: 0.9908 - val_precision: 0.9916 - val_recall: 0.9898\n"
     ]
    },
    {
     "data": {
      "text/plain": [
       "<keras.callbacks.History at 0x251e472e230>"
      ]
     },
     "execution_count": 7,
     "metadata": {},
     "output_type": "execute_result"
    }
   ],
   "source": [
    "model = build_model(use_stn=False)\n",
    "model.summary()\n",
    "model.fit(train_set, validation_data=val_set, epochs=10)"
   ]
  },
  {
   "cell_type": "code",
   "execution_count": 8,
   "metadata": {},
   "outputs": [
    {
     "name": "stdout",
     "output_type": "stream",
     "text": [
      "Model: \"sequential_3\"\n",
      "_________________________________________________________________\n",
      " Layer (type)                Output Shape              Param #   \n",
      "=================================================================\n",
      " loc_net (LocNet)            (None, 28, 28, 1)         40410     \n",
      "                                                                 \n",
      " conv2d_3 (Conv2D)           (None, 26, 26, 32)        320       \n",
      "                                                                 \n",
      " max_pooling2d_2 (MaxPooling  (None, 13, 13, 32)       0         \n",
      " 2D)                                                             \n",
      "                                                                 \n",
      " conv2d_4 (Conv2D)           (None, 11, 11, 64)        18496     \n",
      "                                                                 \n",
      " max_pooling2d_3 (MaxPooling  (None, 5, 5, 64)         0         \n",
      " 2D)                                                             \n",
      "                                                                 \n",
      " conv2d_5 (Conv2D)           (None, 3, 3, 64)          36928     \n",
      "                                                                 \n",
      " flatten_1 (Flatten)         (None, 576)               0         \n",
      "                                                                 \n",
      " dense_2 (Dense)             (None, 64)                36928     \n",
      "                                                                 \n",
      " dense_3 (Dense)             (None, 10)                650       \n",
      "                                                                 \n",
      "=================================================================\n",
      "Total params: 133,732\n",
      "Trainable params: 133,732\n",
      "Non-trainable params: 0\n",
      "_________________________________________________________________\n",
      "Epoch 1/10\n",
      "1875/1875 [==============================] - 16s 8ms/step - loss: 0.2965 - categorical_accuracy: 0.9043 - precision_1: 0.9475 - recall_1: 0.8805 - val_loss: 0.0548 - val_categorical_accuracy: 0.9824 - val_precision_1: 0.9840 - val_recall_1: 0.9813\n",
      "Epoch 2/10\n",
      "1875/1875 [==============================] - 15s 8ms/step - loss: 0.1213 - categorical_accuracy: 0.9616 - precision_1: 0.9680 - recall_1: 0.9564 - val_loss: 0.0383 - val_categorical_accuracy: 0.9881 - val_precision_1: 0.9900 - val_recall_1: 0.9868\n",
      "Epoch 3/10\n",
      "1875/1875 [==============================] - 15s 8ms/step - loss: 0.1060 - categorical_accuracy: 0.9666 - precision_1: 0.9722 - recall_1: 0.9625 - val_loss: 0.0357 - val_categorical_accuracy: 0.9883 - val_precision_1: 0.9899 - val_recall_1: 0.9879\n",
      "Epoch 4/10\n",
      "1875/1875 [==============================] - 15s 8ms/step - loss: 0.0999 - categorical_accuracy: 0.9688 - precision_1: 0.9740 - recall_1: 0.9646 - val_loss: 0.0427 - val_categorical_accuracy: 0.9869 - val_precision_1: 0.9880 - val_recall_1: 0.9857\n",
      "Epoch 5/10\n",
      "1875/1875 [==============================] - 15s 8ms/step - loss: 0.0904 - categorical_accuracy: 0.9714 - precision_1: 0.9762 - recall_1: 0.9672 - val_loss: 0.0306 - val_categorical_accuracy: 0.9893 - val_precision_1: 0.9899 - val_recall_1: 0.9887\n",
      "Epoch 6/10\n",
      "1875/1875 [==============================] - 15s 8ms/step - loss: 0.0937 - categorical_accuracy: 0.9703 - precision_1: 0.9761 - recall_1: 0.9660 - val_loss: 0.0290 - val_categorical_accuracy: 0.9912 - val_precision_1: 0.9926 - val_recall_1: 0.9901\n",
      "Epoch 7/10\n",
      "1875/1875 [==============================] - 15s 8ms/step - loss: 0.1123 - categorical_accuracy: 0.9651 - precision_1: 0.9730 - recall_1: 0.9587 - val_loss: 0.0410 - val_categorical_accuracy: 0.9858 - val_precision_1: 0.9874 - val_recall_1: 0.9854\n",
      "Epoch 8/10\n",
      "1875/1875 [==============================] - 15s 8ms/step - loss: 0.0941 - categorical_accuracy: 0.9710 - precision_1: 0.9770 - recall_1: 0.9658 - val_loss: 0.0327 - val_categorical_accuracy: 0.9900 - val_precision_1: 0.9907 - val_recall_1: 0.9895\n",
      "Epoch 9/10\n",
      "1875/1875 [==============================] - 15s 8ms/step - loss: 0.0915 - categorical_accuracy: 0.9716 - precision_1: 0.9770 - recall_1: 0.9663 - val_loss: 0.0474 - val_categorical_accuracy: 0.9845 - val_precision_1: 0.9857 - val_recall_1: 0.9836\n",
      "Epoch 10/10\n",
      "1875/1875 [==============================] - 15s 8ms/step - loss: 0.1027 - categorical_accuracy: 0.9675 - precision_1: 0.9755 - recall_1: 0.9610 - val_loss: 0.0365 - val_categorical_accuracy: 0.9882 - val_precision_1: 0.9894 - val_recall_1: 0.9876\n"
     ]
    },
    {
     "data": {
      "text/plain": [
       "<keras.callbacks.History at 0x251f2136a40>"
      ]
     },
     "execution_count": 8,
     "metadata": {},
     "output_type": "execute_result"
    }
   ],
   "source": [
    "model = build_model(use_stn=True)\n",
    "model.summary()\n",
    "model.fit(train_set, validation_data=val_set, epochs=10)"
   ]
  },
  {
   "cell_type": "code",
   "execution_count": 9,
   "metadata": {},
   "outputs": [
    {
     "name": "stdout",
     "output_type": "stream",
     "text": [
      "1/1 [==============================] - 0s 133ms/step\n"
     ]
    },
    {
     "data": {
      "image/png": "[encoded data removed]",
      "text/plain": [
       "<Figure size 500x500 with 9 Axes>"
      ]
     },
     "metadata": {},
     "output_type": "display_data"
    }
   ],
   "source": [
    "activation_model = keras.models.Model(inputs=model.input, outputs=model.layers[0].output)\n",
    "\n",
    "activations = activation_model.predict(batch_images)\n",
    "\n",
    "fig, axes = plt.subplots(3, 3, figsize=(5, 5))\n",
    "axes = axes.flatten()\n",
    "for i in range(9):\n",
    "  image = activations[i, :, :, 0]\n",
    "  label = tf.argmax(batch_labels[i]).numpy()\n",
    "  axes[i].imshow(image)\n",
    "  axes[i].set_title(f\"Label: {label}\")\n",
    "  axes[i].axis('off')\n",
    "\n",
    "plt.tight_layout()\n",
    "plt.show()"
   ]
  },
  {
   "cell_type": "code",
   "execution_count": null,
   "metadata": {},
   "outputs": [],
   "source": []
  }
 ],
 "metadata": {
  "kernelspec": {
   "display_name": "base",
   "language": "python",
   "name": "python3"
  },
  "language_info": {
   "codemirror_mode": {
    "name": "ipython",
    "version": 3
   },
   "file_extension": ".py",
   "mimetype": "text/x-python",
   "name": "python",
   "nbconvert_exporter": "python",
   "pygments_lexer": "ipython3",
   "version": "3.10.13"
  }
 },
 "nbformat": 4,
 "nbformat_minor": 2
}
